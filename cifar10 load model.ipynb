{
 "cells": [
  {
   "cell_type": "code",
   "execution_count": 1,
   "metadata": {},
   "outputs": [
    {
     "data": {
      "text/plain": [
       "'2.1.0'"
      ]
     },
     "execution_count": 1,
     "metadata": {},
     "output_type": "execute_result"
    }
   ],
   "source": [
    "import numpy as np\n",
    "import datetime\n",
    "import tensorflow as tf\n",
    "import pandas as pd\n",
    "import numpy as np\n",
    "import matplotlib.pyplot as plt\n",
    "import seaborn as sns\n",
    "import random\n",
    "tf.__version__"
   ]
  },
  {
   "cell_type": "code",
   "execution_count": 2,
   "metadata": {},
   "outputs": [],
   "source": [
    "physical_devices = tf.config.experimental.list_physical_devices('GPU')\n",
    "tf.config.experimental.set_memory_growth(physical_devices[0], True)"
   ]
  },
  {
   "cell_type": "code",
   "execution_count": 3,
   "metadata": {},
   "outputs": [],
   "source": [
    "model = tf.keras.models.load_model('cifar10.h5')\n"
   ]
  },
  {
   "cell_type": "code",
   "execution_count": 4,
   "metadata": {},
   "outputs": [
    {
     "name": "stdout",
     "output_type": "stream",
     "text": [
      "Model: \"sequential\"\n",
      "_________________________________________________________________\n",
      "Layer (type)                 Output Shape              Param #   \n",
      "=================================================================\n",
      "conv2d (Conv2D)              (None, 30, 30, 32)        896       \n",
      "_________________________________________________________________\n",
      "conv2d_1 (Conv2D)            (None, 28, 28, 32)        9248      \n",
      "_________________________________________________________________\n",
      "max_pooling2d (MaxPooling2D) (None, 14, 14, 32)        0         \n",
      "_________________________________________________________________\n",
      "dropout (Dropout)            (None, 14, 14, 32)        0         \n",
      "_________________________________________________________________\n",
      "conv2d_2 (Conv2D)            (None, 12, 12, 64)        18496     \n",
      "_________________________________________________________________\n",
      "conv2d_3 (Conv2D)            (None, 10, 10, 64)        36928     \n",
      "_________________________________________________________________\n",
      "max_pooling2d_1 (MaxPooling2 (None, 5, 5, 64)          0         \n",
      "_________________________________________________________________\n",
      "dropout_1 (Dropout)          (None, 5, 5, 64)          0         \n",
      "_________________________________________________________________\n",
      "flatten (Flatten)            (None, 1600)              0         \n",
      "_________________________________________________________________\n",
      "dense (Dense)                (None, 1024)              1639424   \n",
      "_________________________________________________________________\n",
      "dropout_2 (Dropout)          (None, 1024)              0         \n",
      "_________________________________________________________________\n",
      "dense_1 (Dense)              (None, 1024)              1049600   \n",
      "_________________________________________________________________\n",
      "dense_2 (Dense)              (None, 10)                10250     \n",
      "=================================================================\n",
      "Total params: 2,764,842\n",
      "Trainable params: 2,764,842\n",
      "Non-trainable params: 0\n",
      "_________________________________________________________________\n"
     ]
    }
   ],
   "source": [
    "model.summary()"
   ]
  },
  {
   "cell_type": "code",
   "execution_count": 5,
   "metadata": {
    "scrolled": true
   },
   "outputs": [
    {
     "data": {
      "text/plain": [
       "array([[[[103.   , 137.   , 174.   ],\n",
       "         [107.   , 142.   , 174.   ],\n",
       "         [113.75 , 143.75 , 179.75 ],\n",
       "         ...,\n",
       "         [149.   , 166.   , 192.   ],\n",
       "         [148.875, 165.875, 191.875],\n",
       "         [158.75 , 173.75 , 194.75 ]],\n",
       "\n",
       "        [[119.5  , 147.25 , 177.25 ],\n",
       "         [118.875, 147.25 , 179.875],\n",
       "         [129.   , 153.375, 182.75 ],\n",
       "         ...,\n",
       "         [155.25 , 173.375, 192.25 ],\n",
       "         [158.625, 172.875, 194.125],\n",
       "         [148.   , 168.   , 192.   ]],\n",
       "\n",
       "        [[156.375, 163.625, 183.125],\n",
       "         [159.75 , 167.   , 185.25 ],\n",
       "         [134.625, 157.625, 185.5  ],\n",
       "         ...,\n",
       "         [166.   , 175.625, 193.25 ],\n",
       "         [158.25 , 173.25 , 193.25 ],\n",
       "         [156.625, 172.625, 195.625]],\n",
       "\n",
       "        ...,\n",
       "\n",
       "        [[ 77.375,  66.375,  60.375],\n",
       "         [ 79.   ,  68.   ,  62.   ],\n",
       "         [ 81.5  ,  68.5  ,  60.5  ],\n",
       "         ...,\n",
       "         [ 80.5  ,  67.5  ,  61.5  ],\n",
       "         [ 72.   ,  59.   ,  53.   ],\n",
       "         [ 69.875,  57.875,  51.875]],\n",
       "\n",
       "        [[ 77.5  ,  66.5  ,  60.5  ],\n",
       "         [ 75.   ,  64.   ,  58.   ],\n",
       "         [ 81.   ,  68.   ,  62.   ],\n",
       "         ...,\n",
       "         [ 74.75 ,  61.75 ,  55.75 ],\n",
       "         [ 68.625,  55.625,  49.625],\n",
       "         [ 72.375,  62.375,  53.375]],\n",
       "\n",
       "        [[ 74.125,  63.125,  59.125],\n",
       "         [ 74.5  ,  63.5  ,  57.5  ],\n",
       "         [ 81.875,  66.875,  59.875],\n",
       "         ...,\n",
       "         [ 79.625,  66.625,  60.625],\n",
       "         [ 76.625,  61.625,  56.625],\n",
       "         [ 66.375,  53.375,  45.375]]]], dtype=float32)"
      ]
     },
     "execution_count": 5,
     "metadata": {},
     "output_type": "execute_result"
    }
   ],
   "source": [
    "img = tf.io.read_file('caminhao.jpg');\n",
    "img = tf.image.decode_jpeg(img, channels=3)\n",
    "img.set_shape([None, None, 3])\n",
    "img = tf.image.resize(img, (32, 32))\n",
    "img = np.expand_dims(img, axis=0)\n",
    "img"
   ]
  },
  {
   "cell_type": "code",
   "execution_count": 8,
   "metadata": {},
   "outputs": [
    {
     "data": {
      "text/plain": [
       "array([9], dtype=int64)"
      ]
     },
     "execution_count": 8,
     "metadata": {},
     "output_type": "execute_result"
    }
   ],
   "source": [
    "pred = model.predict_classes(img)\n",
    "pred"
   ]
  },
  {
   "cell_type": "code",
   "execution_count": null,
   "metadata": {},
   "outputs": [],
   "source": []
  }
 ],
 "metadata": {
  "kernelspec": {
   "display_name": "Python 3",
   "language": "python",
   "name": "python3"
  },
  "language_info": {
   "codemirror_mode": {
    "name": "ipython",
    "version": 3
   },
   "file_extension": ".py",
   "mimetype": "text/x-python",
   "name": "python",
   "nbconvert_exporter": "python",
   "pygments_lexer": "ipython3",
   "version": "3.7.7"
  }
 },
 "nbformat": 4,
 "nbformat_minor": 4
}
